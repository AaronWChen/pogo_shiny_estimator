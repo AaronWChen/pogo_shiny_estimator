{
 "cells": [
  {
   "cell_type": "markdown",
   "metadata": {},
   "source": [
    "# EDA 1: Finding Probabilities\n",
    "## This notebook contains initial exploratory data analysis for a Pokemon Go shiny appearance odds calculator\n",
    "### Author: Aaron Washington Chen"
   ]
  },
  {
   "cell_type": "code",
   "execution_count": 7,
   "metadata": {},
   "outputs": [],
   "source": [
    "import pandas as pd\n",
    "import numpy as np\n",
    "import scipy\n",
    "import matplotlib.pyplot as plt\n",
    "import seaborn as sns\n",
    "import math\n",
    "%matplotlib inline"
   ]
  },
  {
   "cell_type": "markdown",
   "metadata": {},
   "source": [
    "### Given Data/Parameters and Problem Formation"
   ]
  },
  {
   "cell_type": "markdown",
   "metadata": {},
   "source": [
    "According to Silph Road (https://thesilphroad.com/science/pokemon-go-deducing-shiny-rate/), the general probability for finding a shiny in the wild is 1 in 450 appearances. This ignores special days/raids and also assumes that the Pokemon is able to be shiny in the first place. Because of their empirically sourced data (and because neither Niantic or Pokemon Company confirm or deny this number), I'm going to use this as the baseline."
   ]
  },
  {
   "cell_type": "code",
   "execution_count": 8,
   "metadata": {},
   "outputs": [
    {
     "name": "stdout",
     "output_type": "stream",
     "text": [
      "0.0022222222222222222\n"
     ]
    }
   ],
   "source": [
    "P_shiny = 1/450\n",
    "print(P_shiny)"
   ]
  },
  {
   "cell_type": "markdown",
   "metadata": {},
   "source": [
    "It appears we have a rare event probability, which leads me to believe that this can be modeled with a Poisson distribution. \n",
    "\n",
    "This means that the probability for k shinies in a given interval can be found as:\n",
    "P(k shinies) = (lambda^k * e^-lambda)/k!\n",
    "where lambda is the expected value for finding shinies in that interval.\n",
    "\n",
    "So, we must define an interval as well as find the expected value. "
   ]
  },
  {
   "cell_type": "markdown",
   "metadata": {},
   "source": [
    "---"
   ]
  },
  {
   "cell_type": "markdown",
   "metadata": {},
   "source": [
    "### Defining an Interval"
   ]
  },
  {
   "cell_type": "markdown",
   "metadata": {},
   "source": [
    "Since we have not recorded Pokemon seen, how many of them we saw, user info, etc, and only have an estimate for number of Pokemon seen, I will use an assumed Pokemon Sightings number for an interval. I play something like 1-2 hours a day (at the bare minimum, I'll play right when I wake up, sometimes when doing cardio, quickly at lunch, right before dinner, and right before bed). My rough guess is that I'll see 200 Pokemon a day.\n",
    "\n",
    "My stats say I've caught 20,000 Pokemon since starting on January 20. That means 182 days. Now, caught is not the same number as appearances, so I'll need to add a padding factor to account for Pokemon that I don't catch. This can happen for a few reasons: they run, fail a shiny check, or are too difficult to catch.  It does not seem like Pokemon run very often, but I do shiny/difficulty checks somewhat often. Let's say...another 25% (or 5,000) fall into this category."
   ]
  },
  {
   "cell_type": "code",
   "execution_count": 9,
   "metadata": {},
   "outputs": [
    {
     "data": {
      "text/plain": [
       "137.36263736263737"
      ]
     },
     "execution_count": 9,
     "metadata": {},
     "output_type": "execute_result"
    }
   ],
   "source": [
    "25000/182"
   ]
  },
  {
   "cell_type": "markdown",
   "metadata": {},
   "source": [
    "This means I usually see something like 140 Pokemon a day! Sounds like a lot, but in my defense, my block has a total of 8 Pokestops and 3 gyms, so I can see a lot of Pokemon just going for a short (distance-wise) walk. "
   ]
  },
  {
   "cell_type": "markdown",
   "metadata": {},
   "source": [
    "---"
   ]
  },
  {
   "cell_type": "markdown",
   "metadata": {},
   "source": [
    "### Expected Value"
   ]
  },
  {
   "cell_type": "markdown",
   "metadata": {},
   "source": [
    "We need to find an expected value. Since we have the probability as given (and the events are independent), we need something that represents the outcome of finding a shiny. Let's use a boolean: 1 for finding a shiny. The expected value should be somewhat trivial to calculate:"
   ]
  },
  {
   "cell_type": "code",
   "execution_count": 15,
   "metadata": {},
   "outputs": [],
   "source": [
    "def expected_shinies(appearances):\n",
    "    # This function gives the number of expected shiny Pokemon appearances for \n",
    "    # a user-provided number of appearances of all Pokemon\n",
    "    all_appearances = [1 for _ in range(1, appearances+1, 1)]\n",
    "    P_shiny = 1/450 # from Silph Road\n",
    "    weighted_P = np.multiply(P_shiny, all_appearances)\n",
    "    return np.sum(weighted_P)"
   ]
  },
  {
   "cell_type": "code",
   "execution_count": 16,
   "metadata": {},
   "outputs": [
    {
     "data": {
      "text/plain": [
       "55.55555555555555"
      ]
     },
     "execution_count": 16,
     "metadata": {},
     "output_type": "execute_result"
    }
   ],
   "source": [
    "expected_shinies(25000)"
   ]
  },
  {
   "cell_type": "code",
   "execution_count": 20,
   "metadata": {},
   "outputs": [
    {
     "data": {
      "text/plain": [
       "0.31111111111111106"
      ]
     },
     "execution_count": 20,
     "metadata": {},
     "output_type": "execute_result"
    }
   ],
   "source": [
    "expected_shinies(140)"
   ]
  },
  {
   "cell_type": "markdown",
   "metadata": {},
   "source": [
    "Wait, this is a binomial distribution as this is the value of n * p"
   ]
  },
  {
   "cell_type": "code",
   "execution_count": 21,
   "metadata": {},
   "outputs": [],
   "source": [
    "def prob_poisson_shinies(k, appearances=140):\n",
    "    # This function takes in the number of appearances (with a default of my daily rate of 140)\n",
    "    # and the number of shinies you've gotten/want to get and gives back the probability \n",
    "    # assuming a Poisson distribution\n",
    "    exp_val = expected_shinies(appearances)\n",
    "    return exp_val**k * np.exp(-exp_val) / math.factorial(k)"
   ]
  },
  {
   "cell_type": "code",
   "execution_count": 48,
   "metadata": {},
   "outputs": [
    {
     "data": {
      "text/plain": [
       "0.22793010107442263"
      ]
     },
     "execution_count": 48,
     "metadata": {},
     "output_type": "execute_result"
    }
   ],
   "source": [
    "prob_poisson_shinies(k=1, appearances=140)"
   ]
  },
  {
   "cell_type": "markdown",
   "metadata": {},
   "source": [
    "---"
   ]
  },
  {
   "cell_type": "markdown",
   "metadata": {},
   "source": [
    "# Binomial Distribution?"
   ]
  },
  {
   "cell_type": "code",
   "execution_count": null,
   "metadata": {},
   "outputs": [],
   "source": [
    " 25000 * 1/450"
   ]
  },
  {
   "cell_type": "markdown",
   "metadata": {},
   "source": [
    "Let's try this again with a binomial distribution (to be fair, a Poisson distribution is a binomial distribution where the number of trials approaches infinity and the success rate approaches zero)"
   ]
  },
  {
   "cell_type": "code",
   "execution_count": 27,
   "metadata": {},
   "outputs": [],
   "source": [
    "mean, var = scipy.stats.binom.stats(140, P_shiny)"
   ]
  },
  {
   "cell_type": "code",
   "execution_count": 30,
   "metadata": {},
   "outputs": [
    {
     "name": "stdout",
     "output_type": "stream",
     "text": [
      "0.3111111111111111\n"
     ]
    }
   ],
   "source": [
    "print(mean)"
   ]
  },
  {
   "cell_type": "code",
   "execution_count": 31,
   "metadata": {},
   "outputs": [
    {
     "name": "stdout",
     "output_type": "stream",
     "text": [
      "0.3104197530864198\n"
     ]
    }
   ],
   "source": [
    "print(var)"
   ]
  },
  {
   "cell_type": "code",
   "execution_count": 32,
   "metadata": {},
   "outputs": [],
   "source": [
    "mean2, var2 = scipy.stats.binom.stats(25000, P_shiny)"
   ]
  },
  {
   "cell_type": "code",
   "execution_count": 33,
   "metadata": {},
   "outputs": [
    {
     "name": "stdout",
     "output_type": "stream",
     "text": [
      "55.55555555555556\n",
      "55.4320987654321\n"
     ]
    }
   ],
   "source": [
    "print(mean2)\n",
    "print(var2)"
   ]
  },
  {
   "cell_type": "code",
   "execution_count": 34,
   "metadata": {},
   "outputs": [
    {
     "name": "stdout",
     "output_type": "stream",
     "text": [
      "555.5555555555555\n",
      "554.320987654321\n"
     ]
    }
   ],
   "source": [
    "mean3, var3 = scipy.stats.binom.stats(250000, P_shiny)\n",
    "print(mean3)\n",
    "print(var3)"
   ]
  },
  {
   "cell_type": "code",
   "execution_count": 35,
   "metadata": {},
   "outputs": [
    {
     "name": "stdout",
     "output_type": "stream",
     "text": [
      "5555.555555555556\n",
      "5543.20987654321\n"
     ]
    }
   ],
   "source": [
    "mean4, var4 = scipy.stats.binom.stats(2500000, P_shiny)\n",
    "print(mean4)\n",
    "print(var4)"
   ]
  },
  {
   "cell_type": "code",
   "execution_count": 38,
   "metadata": {},
   "outputs": [
    {
     "name": "stdout",
     "output_type": "stream",
     "text": [
      "610.3515625\n",
      "610.2025508880615\n"
     ]
    }
   ],
   "source": [
    "mean5, var5 = scipy.stats.binom.stats(2500000, 1/4096)\n",
    "print(mean5)\n",
    "print(var5)"
   ]
  },
  {
   "cell_type": "code",
   "execution_count": 39,
   "metadata": {},
   "outputs": [
    {
     "name": "stdout",
     "output_type": "stream",
     "text": [
      "305.17578125\n",
      "305.1385283470154\n"
     ]
    }
   ],
   "source": [
    "mean6, var6 = scipy.stats.binom.stats(2500000, 1/8192)\n",
    "print(mean6)\n",
    "print(var6)"
   ]
  },
  {
   "cell_type": "code",
   "execution_count": 40,
   "metadata": {},
   "outputs": [
    {
     "name": "stdout",
     "output_type": "stream",
     "text": [
      "30.517578125\n",
      "30.517205595970154\n"
     ]
    }
   ],
   "source": [
    "mean7, var7 = scipy.stats.binom.stats(2500000, 1/81920)\n",
    "print(mean7)\n",
    "print(var7)"
   ]
  },
  {
   "cell_type": "code",
   "execution_count": 46,
   "metadata": {},
   "outputs": [],
   "source": [
    "def prob_binom_shinies(k, appearances=140):\n",
    "    # This function takes in the number of appearances (with a default of my daily rate of 140)\n",
    "    # and the number of shinies you've gotten/want to get and gives back the probability\n",
    "    # assuming a binomial distribution\n",
    "    coef = math.factorial(appearances) / (math.factorial(k) * math.factorial(appearances-k))\n",
    "    P_shiny = 1/450\n",
    "    return coef * P_shiny**k * (1-P_shiny)**(appearances-k)"
   ]
  },
  {
   "cell_type": "code",
   "execution_count": 49,
   "metadata": {},
   "outputs": [
    {
     "name": "stdout",
     "output_type": "stream",
     "text": [
      "0.7323788801488637\n"
     ]
    }
   ],
   "source": [
    "print(prob_binom_shinies(k=0, appearances=140))"
   ]
  },
  {
   "cell_type": "markdown",
   "metadata": {},
   "source": [
    "---"
   ]
  },
  {
   "cell_type": "markdown",
   "metadata": {},
   "source": [
    "In this case, since the expected value for the Poisson distribution is derived from the expected value for the binomial distribution, the resulting probabilities are not very different"
   ]
  },
  {
   "cell_type": "code",
   "execution_count": 72,
   "metadata": {},
   "outputs": [],
   "source": [
    "def all_dists(num_looking, appearances=140):\n",
    "    # This function takes in the number of appearances (with a default of my daily rate of 140)\n",
    "    # and makes a loop to find the probabilities of finding shinies up to the number of \n",
    "    # appearances\n",
    "    all_appearances = dict()\n",
    "    \n",
    "    for k in range(0, appearances+1, 1):\n",
    "        all_appearances[k] = prob_poisson_shinies(k, appearances)\n",
    "    \n",
    "    #binoms = [prob_binom_shinies(k, appearances) for k in all_appearances]\n",
    "    plt.plot(list(all_appearances.keys()), list(all_appearances.values()));\n",
    "    plt.axvline(x=num_looking, color='red')\n",
    "    plt.xlim(0,15)\n",
    "    \n",
    "    print(f'Probability of finding {num_looking} shinies in {appearances} is: {all_appearances[num_looking]}')"
   ]
  },
  {
   "cell_type": "code",
   "execution_count": 73,
   "metadata": {},
   "outputs": [
    {
     "name": "stdout",
     "output_type": "stream",
     "text": [
      "Probability of finding 3 shinies in 140 is: 0.003676897103752002\n"
     ]
    },
    {
     "data": {
      "image/png": "[encoded data removed]",
      "text/plain": [
       "<Figure size 432x288 with 1 Axes>"
      ]
     },
     "metadata": {
      "needs_background": "light"
     },
     "output_type": "display_data"
    }
   ],
   "source": [
    "all_dists(num_looking=3, appearances=140)"
   ]
  },
  {
   "cell_type": "code",
   "execution_count": null,
   "metadata": {},
   "outputs": [],
   "source": []
  }
 ],
 "metadata": {
  "kernelspec": {
   "display_name": "pogo_shiny_env",
   "language": "python",
   "name": "pogo_shiny"
  }
 },
 "nbformat": 4,
 "nbformat_minor": 4
}
