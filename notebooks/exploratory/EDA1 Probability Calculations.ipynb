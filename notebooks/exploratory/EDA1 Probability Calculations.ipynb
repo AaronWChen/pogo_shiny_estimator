{
 "cells": [
  {
   "cell_type": "markdown",
   "metadata": {},
   "source": [
    "# EDA 1: Finding Probabilities\n",
    "## This notebook contains initial exploratory data analysis for a Pokemon Go shiny appearance odds calculator\n",
    "### Author: Aaron Washington Chen"
   ]
  },
  {
   "cell_type": "code",
   "execution_count": 1,
   "metadata": {},
   "outputs": [],
   "source": [
    "import pandas as pd\n",
    "import numpy as np\n",
    "import scipy\n",
    "import matplotlib.pyplot as plt\n",
    "import seaborn as sns\n",
    "%matplotlib inline"
   ]
  },
  {
   "cell_type": "markdown",
   "metadata": {},
   "source": [
    "According to Silph Road (https://thesilphroad.com/science/pokemon-go-deducing-shiny-rate/), the general probability for finding a shiny in the wild is 1 in 450 appearances. This ignores special days/raids and also assumes that the Pokemon is able to be shiny in the first place. Because of their empirically sourced data (and because neither Niantic or Pokemon Company confirm or deny this number), I'm going to use this as the baseline."
   ]
  },
  {
   "cell_type": "code",
   "execution_count": 2,
   "metadata": {},
   "outputs": [
    {
     "name": "stdout",
     "output_type": "stream",
     "text": [
      "0.0022222222222222222\n"
     ]
    }
   ],
   "source": [
    "P_shiny = 1/450\n",
    "print(P_shiny)"
   ]
  },
  {
   "cell_type": "markdown",
   "metadata": {},
   "source": [
    "Plainly, it appears we have a rare event probability, which leads me to believe that this can be modeled with a Poisson distribution. \n",
    "\n",
    "This means that the probability for k shinies in a given interval can be found as:\n",
    "P(k shinies) = (lambda^k * e^-k)/k!\n",
    "where lambda is the expected value for finding shinies in that interval.\n",
    "\n",
    "So, we must define an interval as well as find the expected value."
   ]
  },
  {
   "cell_type": "markdown",
   "metadata": {},
   "source": [
    "---"
   ]
  },
  {
   "cell_type": "markdown",
   "metadata": {},
   "source": [
    "# Binomial Distribution?"
   ]
  },
  {
   "cell_type": "code",
   "execution_count": null,
   "metadata": {},
   "outputs": [],
   "source": []
  }
 ],
 "metadata": {
  "kernelspec": {
   "display_name": "pogo_shiny_env",
   "language": "python",
   "name": "pogo_shiny"
  },
  "language_info": {
   "codemirror_mode": {
    "name": "ipython",
    "version": 3
   },
   "file_extension": ".py",
   "mimetype": "text/x-python",
   "name": "python",
   "nbconvert_exporter": "python",
   "pygments_lexer": "ipython3",
   "version": "3.8.3"
  }
 },
 "nbformat": 4,
 "nbformat_minor": 4
}
